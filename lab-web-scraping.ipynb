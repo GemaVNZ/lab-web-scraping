{
  "cells": [
    {
      "cell_type": "markdown",
      "id": "7e7a1ab8-2599-417d-9a65-25ef07f3a786",
      "metadata": {
        "id": "7e7a1ab8-2599-417d-9a65-25ef07f3a786"
      },
      "source": [
        "# Lab | Web Scraping"
      ]
    },
    {
      "cell_type": "markdown",
      "id": "ce8882fc-4815-4567-92fa-b4816358ba7d",
      "metadata": {
        "id": "ce8882fc-4815-4567-92fa-b4816358ba7d"
      },
      "source": [
        "Welcome to the \"Books to Scrape\" Web Scraping Adventure Lab!\n",
        "\n",
        "**Objective**\n",
        "\n",
        "In this lab, we will embark on a mission to unearth valuable insights from the data available on Books to Scrape, an online platform showcasing a wide variety of books. As data analyst, you have been tasked with scraping a specific subset of book data from Books to Scrape to assist publishing companies in understanding the landscape of highly-rated books across different genres. Your insights will help shape future book marketing strategies and publishing decisions.\n",
        "\n",
        "**Background**\n",
        "\n",
        "In a world where data has become the new currency, businesses are leveraging big data to make informed decisions that drive success and profitability. The publishing industry, much like others, utilizes data analytics to understand market trends, reader preferences, and the performance of books based on factors such as genre, author, and ratings. Books to Scrape serves as a rich source of such data, offering detailed information about a diverse range of books, making it an ideal platform for extracting insights to aid in informed decision-making within the literary world.\n",
        "\n",
        "**Task**\n",
        "\n",
        "Your task is to create a Python script using BeautifulSoup and pandas to scrape Books to Scrape book data, focusing on book ratings and genres. The script should be able to filter books with ratings above a certain threshold and in specific genres. Additionally, the script should structure the scraped data in a tabular format using pandas for further analysis.\n",
        "\n",
        "**Expected Outcome**\n",
        "\n",
        "A function named `scrape_books` that takes two parameters: `min_rating` and `max_price`. The function should scrape book data from the \"Books to Scrape\" website and return a `pandas` DataFrame with the following columns:\n",
        "\n",
        "**Expected Outcome**\n",
        "\n",
        "- A function named `scrape_books` that takes two parameters: `min_rating` and `max_price`.\n",
        "- The function should return a DataFrame with the following columns:\n",
        "  - **UPC**: The Universal Product Code (UPC) of the book.\n",
        "  - **Title**: The title of the book.\n",
        "  - **Price (£)**: The price of the book in pounds.\n",
        "  - **Rating**: The rating of the book (1-5 stars).\n",
        "  - **Genre**: The genre of the book.\n",
        "  - **Availability**: Whether the book is in stock or not.\n",
        "  - **Description**: A brief description or product description of the book (if available).\n",
        "  \n",
        "You will execute this script to scrape data for books with a minimum rating of `4.0 and above` and a maximum price of `£20`. \n",
        "\n",
        "Remember to experiment with different ratings and prices to ensure your code is versatile and can handle various searches effectively!\n",
        "\n",
        "**Resources**\n",
        "\n",
        "- [Beautiful Soup Documentation](https://www.crummy.com/software/BeautifulSoup/bs4/doc/)\n",
        "- [Pandas Documentation](https://pandas.pydata.org/pandas-docs/stable/index.html)\n",
        "- [Books to Scrape](https://books.toscrape.com/)\n"
      ]
    },
    {
      "cell_type": "markdown",
      "id": "3519921d-5890-445b-9a33-934ed8ee378c",
      "metadata": {
        "id": "3519921d-5890-445b-9a33-934ed8ee378c"
      },
      "source": [
        "**Hint**\n",
        "\n",
        "Your first mission is to familiarize yourself with the **Books to Scrape** website. Navigate to [Books to Scrape](http://books.toscrape.com/) and explore the available books to understand their layout and structure. \n",
        "\n",
        "Next, think about how you can set parameters for your data extraction:\n",
        "\n",
        "- **Minimum Rating**: Focus on books with a rating of 4.0 and above.\n",
        "- **Maximum Price**: Filter for books priced up to £20.\n",
        "\n",
        "After reviewing the site, you can construct a plan for scraping relevant data. Pay attention to the details displayed for each book, including the title, price, rating, and availability. This will help you identify the correct HTML elements to target with your scraping script.\n",
        "\n",
        "Make sure to build your scraping URL and logic based on the patterns you observe in the HTML structure of the book listings!"
      ]
    },
    {
      "cell_type": "markdown",
      "id": "25a83a0d-a742-49f6-985e-e27887cbf922",
      "metadata": {
        "id": "25a83a0d-a742-49f6-985e-e27887cbf922"
      },
      "source": [
        "\n",
        "---\n",
        "\n",
        "**Best of luck! Immerse yourself in the world of books, and may the data be with you!**"
      ]
    },
    {
      "cell_type": "markdown",
      "id": "7b75cf0d-9afa-4eec-a9e2-befeac68b2a0",
      "metadata": {
        "id": "7b75cf0d-9afa-4eec-a9e2-befeac68b2a0"
      },
      "source": [
        "**Important Note**:\n",
        "\n",
        "In the fast-changing online world, websites often update and change their structures. When you try this lab, the **Books to Scrape** website might differ from what you expect.\n",
        "\n",
        "If you encounter issues due to these changes, like new rules or obstacles preventing data extraction, don’t worry! Get creative.\n",
        "\n",
        "You can choose another website that interests you and is suitable for scraping data. Options like Wikipedia, The New York Times, or even library databases are great alternatives. The main goal remains the same: extract useful data and enhance your web scraping skills while exploring a source of information you enjoy. This is your opportunity to practice and adapt to different web environments!"
      ]
    },
    {
      "cell_type": "code",
      "execution_count": null,
      "id": "40359eee-9cd7-4884-bfa4-83344c222305",
      "metadata": {
        "id": "40359eee-9cd7-4884-bfa4-83344c222305"
      },
      "outputs": [],
      "source": [
        "# Your solution goes here"
      ]
    },
    {
      "cell_type": "code",
      "execution_count": 2,
      "id": "d45f1edb",
      "metadata": {},
      "outputs": [
        {
          "name": "stdout",
          "output_type": "stream",
          "text": [
            "Requirement already satisfied: requests in c:\\users\\gema\\anaconda3\\lib\\site-packages (2.32.2)\n",
            "Requirement already satisfied: beautifulsoup4 in c:\\users\\gema\\anaconda3\\lib\\site-packages (4.12.3)\n",
            "Requirement already satisfied: charset-normalizer<4,>=2 in c:\\users\\gema\\anaconda3\\lib\\site-packages (from requests) (2.0.4)\n",
            "Requirement already satisfied: idna<4,>=2.5 in c:\\users\\gema\\anaconda3\\lib\\site-packages (from requests) (3.7)\n",
            "Requirement already satisfied: urllib3<3,>=1.21.1 in c:\\users\\gema\\anaconda3\\lib\\site-packages (from requests) (2.2.2)\n",
            "Requirement already satisfied: certifi>=2017.4.17 in c:\\users\\gema\\anaconda3\\lib\\site-packages (from requests) (2024.7.4)\n",
            "Requirement already satisfied: soupsieve>1.2 in c:\\users\\gema\\anaconda3\\lib\\site-packages (from beautifulsoup4) (2.5)\n"
          ]
        }
      ],
      "source": [
        "#!pip install requests beautifulsoup4"
      ]
    },
    {
      "cell_type": "code",
      "execution_count": 1,
      "id": "80b177ac",
      "metadata": {},
      "outputs": [],
      "source": [
        "import requests\n",
        "from bs4 import BeautifulSoup\n",
        "import pandas as pd\n",
        "import re"
      ]
    },
    {
      "cell_type": "code",
      "execution_count": 2,
      "id": "039c3033",
      "metadata": {},
      "outputs": [],
      "source": [
        "def convert_rating_to_number(rating_class):\n",
        "    rating_dict = {\n",
        "        'One': 1,\n",
        "        'Two': 2,\n",
        "        'Three': 3,\n",
        "        'Four': 4,\n",
        "        'Five': 5\n",
        "    }\n",
        "    return rating_dict.get(rating_class, 0)"
      ]
    },
    {
      "cell_type": "code",
      "execution_count": 3,
      "id": "2845db4b",
      "metadata": {},
      "outputs": [],
      "source": [
        "def scrape_books(min_rating=4, max_price=20):\n",
        "    base_url = \"http://books.toscrape.com/catalogue/page-{}.html\"\n",
        "    book_data = []\n",
        "    \n",
        "    \n",
        "    for page_num in range(1, 51):  # Ajusta el rango según las páginas disponibles\n",
        "        url = base_url.format(page_num)\n",
        "        response = requests.get(url)\n",
        "        soup = BeautifulSoup(response.text, 'html.parser')\n",
        "\n",
        "        # Encontrar todos los libros en la página\n",
        "        books = soup.find_all('article', class_='product_pod')\n",
        "\n",
        "        for book in books:\n",
        "            # Extraer el título\n",
        "            title = book.h3.a['title']\n",
        "\n",
        "            # Extraer el precio\n",
        "            price = book.find('p', class_='price_color').text\n",
        "            price = float(re.sub(r'[^\\d.]', '', price)) \n",
        "\n",
        "            # Extraer calificación\n",
        "            rating_class = book.p['class'][1]\n",
        "            rating = convert_rating_to_number(rating_class)\n",
        "\n",
        "            # Filtrar libros por calificación y precio\n",
        "            if rating >= min_rating and price <= max_price:\n",
        "                # Extraer UPC y disponibilidad de la página de detalles\n",
        "                details_url = \"http://books.toscrape.com/catalogue/\" + book.h3.a['href']\n",
        "                book_details = requests.get(details_url)\n",
        "                details_soup = BeautifulSoup(book_details.text, 'html.parser')\n",
        "\n",
        "                # Extraer UPC\n",
        "                upc = details_soup.find('th', text='UPC').find_next_sibling('td').text\n",
        "                \n",
        "                # Extraer género\n",
        "                genre = details_soup.find('ul', class_='breadcrumb').find_all('li')[2].text.strip()\n",
        "\n",
        "                # Extraer disponibilidad\n",
        "                availability = details_soup.find('p', class_='instock availability').text.strip()\n",
        "\n",
        "                # Extraer descripción (si está disponible)\n",
        "                description_tag = details_soup.find('meta', {'name': 'description'})\n",
        "                description = description_tag['content'].strip() if description_tag else \"No description available\"\n",
        "\n",
        "                # Agregar los datos a la lista\n",
        "                book_data.append([upc, title, price, rating, genre, availability, description])\n",
        "\n",
        "    return book_data"
      ]
    },
    {
      "cell_type": "code",
      "execution_count": 4,
      "id": "a14f30a0",
      "metadata": {},
      "outputs": [
        {
          "name": "stderr",
          "output_type": "stream",
          "text": [
            "C:\\Users\\Gema\\AppData\\Local\\Temp\\ipykernel_20612\\366676934.py:34: DeprecationWarning: The 'text' argument to find()-type methods is deprecated. Use 'string' instead.\n",
            "  upc = details_soup.find('th', text='UPC').find_next_sibling('td').text\n"
          ]
        }
      ],
      "source": [
        "book_data = scrape_books(min_rating=4, max_price=20)"
      ]
    },
    {
      "cell_type": "code",
      "execution_count": 5,
      "id": "3a63a673",
      "metadata": {},
      "outputs": [
        {
          "data": {
            "text/html": [
              "<div>\n",
              "<style scoped>\n",
              "    .dataframe tbody tr th:only-of-type {\n",
              "        vertical-align: middle;\n",
              "    }\n",
              "\n",
              "    .dataframe tbody tr th {\n",
              "        vertical-align: top;\n",
              "    }\n",
              "\n",
              "    .dataframe thead th {\n",
              "        text-align: right;\n",
              "    }\n",
              "</style>\n",
              "<table border=\"1\" class=\"dataframe\">\n",
              "  <thead>\n",
              "    <tr style=\"text-align: right;\">\n",
              "      <th></th>\n",
              "      <th>UPC</th>\n",
              "      <th>Title</th>\n",
              "      <th>Price (£)</th>\n",
              "      <th>Rating</th>\n",
              "      <th>Genre</th>\n",
              "      <th>Availability</th>\n",
              "      <th>Description</th>\n",
              "    </tr>\n",
              "  </thead>\n",
              "  <tbody>\n",
              "    <tr>\n",
              "      <th>0</th>\n",
              "      <td>ce6396b0f23f6ecc</td>\n",
              "      <td>Set Me Free</td>\n",
              "      <td>17.46</td>\n",
              "      <td>5</td>\n",
              "      <td>Young Adult</td>\n",
              "      <td>In stock (19 available)</td>\n",
              "      <td>Aaron Ledbetterâs future had been planned ou...</td>\n",
              "    </tr>\n",
              "    <tr>\n",
              "      <th>1</th>\n",
              "      <td>6258a1f6a6dcfe50</td>\n",
              "      <td>The Four Agreements: A Practical Guide to Pers...</td>\n",
              "      <td>17.66</td>\n",
              "      <td>5</td>\n",
              "      <td>Spirituality</td>\n",
              "      <td>In stock (18 available)</td>\n",
              "      <td>In The Four Agreements, don Miguel Ruiz reveal...</td>\n",
              "    </tr>\n",
              "    <tr>\n",
              "      <th>2</th>\n",
              "      <td>6be3beb0793a53e7</td>\n",
              "      <td>Sophie's World</td>\n",
              "      <td>15.94</td>\n",
              "      <td>5</td>\n",
              "      <td>Philosophy</td>\n",
              "      <td>In stock (18 available)</td>\n",
              "      <td>A page-turning novel that is also an explorati...</td>\n",
              "    </tr>\n",
              "    <tr>\n",
              "      <th>3</th>\n",
              "      <td>657fe5ead67a7767</td>\n",
              "      <td>Untitled Collection: Sabbath Poems 2014</td>\n",
              "      <td>14.27</td>\n",
              "      <td>4</td>\n",
              "      <td>Poetry</td>\n",
              "      <td>In stock (16 available)</td>\n",
              "      <td>More than thirty-five years ago, when the weat...</td>\n",
              "    </tr>\n",
              "    <tr>\n",
              "      <th>4</th>\n",
              "      <td>51653ef291ab7ddc</td>\n",
              "      <td>This One Summer</td>\n",
              "      <td>19.49</td>\n",
              "      <td>4</td>\n",
              "      <td>Sequential Art</td>\n",
              "      <td>In stock (16 available)</td>\n",
              "      <td>Every summer, Rose goes with her mom and dad t...</td>\n",
              "    </tr>\n",
              "    <tr>\n",
              "      <th>...</th>\n",
              "      <td>...</td>\n",
              "      <td>...</td>\n",
              "      <td>...</td>\n",
              "      <td>...</td>\n",
              "      <td>...</td>\n",
              "      <td>...</td>\n",
              "      <td>...</td>\n",
              "    </tr>\n",
              "    <tr>\n",
              "      <th>70</th>\n",
              "      <td>9c96cd1329fbd82d</td>\n",
              "      <td>The Zombie Room</td>\n",
              "      <td>19.69</td>\n",
              "      <td>5</td>\n",
              "      <td>Default</td>\n",
              "      <td>In stock (1 available)</td>\n",
              "      <td>An unlikely bond is forged between three men f...</td>\n",
              "    </tr>\n",
              "    <tr>\n",
              "      <th>71</th>\n",
              "      <td>b78deb463531d078</td>\n",
              "      <td>The Silent Wife</td>\n",
              "      <td>12.34</td>\n",
              "      <td>5</td>\n",
              "      <td>Fiction</td>\n",
              "      <td>In stock (1 available)</td>\n",
              "      <td>A chilling psychological thriller about a marr...</td>\n",
              "    </tr>\n",
              "    <tr>\n",
              "      <th>72</th>\n",
              "      <td>4280ac3eab57aa5d</td>\n",
              "      <td>The Girl You Lost</td>\n",
              "      <td>12.29</td>\n",
              "      <td>5</td>\n",
              "      <td>Mystery</td>\n",
              "      <td>In stock (1 available)</td>\n",
              "      <td>Eighteen years ago your baby daughter was snat...</td>\n",
              "    </tr>\n",
              "    <tr>\n",
              "      <th>73</th>\n",
              "      <td>29fc016c459aeb14</td>\n",
              "      <td>The Edge of Reason (Bridget Jones #2)</td>\n",
              "      <td>19.18</td>\n",
              "      <td>4</td>\n",
              "      <td>Womens Fiction</td>\n",
              "      <td>In stock (1 available)</td>\n",
              "      <td>Monday 27 Januaryâ7:15 a.m. Hurrah! The wild...</td>\n",
              "    </tr>\n",
              "    <tr>\n",
              "      <th>74</th>\n",
              "      <td>19fec36a1dfb4c16</td>\n",
              "      <td>A Spy's Devotion (The Regency Spies of London #1)</td>\n",
              "      <td>16.97</td>\n",
              "      <td>5</td>\n",
              "      <td>Historical Fiction</td>\n",
              "      <td>In stock (1 available)</td>\n",
              "      <td>In Englandâs Regency era, manners and elegan...</td>\n",
              "    </tr>\n",
              "  </tbody>\n",
              "</table>\n",
              "<p>75 rows × 7 columns</p>\n",
              "</div>"
            ],
            "text/plain": [
              "                 UPC                                              Title  \\\n",
              "0   ce6396b0f23f6ecc                                        Set Me Free   \n",
              "1   6258a1f6a6dcfe50  The Four Agreements: A Practical Guide to Pers...   \n",
              "2   6be3beb0793a53e7                                     Sophie's World   \n",
              "3   657fe5ead67a7767            Untitled Collection: Sabbath Poems 2014   \n",
              "4   51653ef291ab7ddc                                    This One Summer   \n",
              "..               ...                                                ...   \n",
              "70  9c96cd1329fbd82d                                    The Zombie Room   \n",
              "71  b78deb463531d078                                    The Silent Wife   \n",
              "72  4280ac3eab57aa5d                                  The Girl You Lost   \n",
              "73  29fc016c459aeb14              The Edge of Reason (Bridget Jones #2)   \n",
              "74  19fec36a1dfb4c16  A Spy's Devotion (The Regency Spies of London #1)   \n",
              "\n",
              "    Price (£)  Rating               Genre             Availability  \\\n",
              "0       17.46       5         Young Adult  In stock (19 available)   \n",
              "1       17.66       5        Spirituality  In stock (18 available)   \n",
              "2       15.94       5          Philosophy  In stock (18 available)   \n",
              "3       14.27       4              Poetry  In stock (16 available)   \n",
              "4       19.49       4      Sequential Art  In stock (16 available)   \n",
              "..        ...     ...                 ...                      ...   \n",
              "70      19.69       5             Default   In stock (1 available)   \n",
              "71      12.34       5             Fiction   In stock (1 available)   \n",
              "72      12.29       5             Mystery   In stock (1 available)   \n",
              "73      19.18       4      Womens Fiction   In stock (1 available)   \n",
              "74      16.97       5  Historical Fiction   In stock (1 available)   \n",
              "\n",
              "                                          Description  \n",
              "0   Aaron Ledbetterâs future had been planned ou...  \n",
              "1   In The Four Agreements, don Miguel Ruiz reveal...  \n",
              "2   A page-turning novel that is also an explorati...  \n",
              "3   More than thirty-five years ago, when the weat...  \n",
              "4   Every summer, Rose goes with her mom and dad t...  \n",
              "..                                                ...  \n",
              "70  An unlikely bond is forged between three men f...  \n",
              "71  A chilling psychological thriller about a marr...  \n",
              "72  Eighteen years ago your baby daughter was snat...  \n",
              "73  Monday 27 Januaryâ7:15 a.m. Hurrah! The wild...  \n",
              "74  In Englandâs Regency era, manners and elegan...  \n",
              "\n",
              "[75 rows x 7 columns]"
            ]
          },
          "execution_count": 5,
          "metadata": {},
          "output_type": "execute_result"
        }
      ],
      "source": [
        "df_books = pd.DataFrame(book_data, columns=['UPC', 'Title', 'Price (£)', 'Rating', 'Genre', 'Availability', 'Description'])\n",
        "df_books"
      ]
    }
  ],
  "metadata": {
    "colab": {
      "provenance": []
    },
    "kernelspec": {
      "display_name": "base",
      "language": "python",
      "name": "python3"
    },
    "language_info": {
      "codemirror_mode": {
        "name": "ipython",
        "version": 3
      },
      "file_extension": ".py",
      "mimetype": "text/x-python",
      "name": "python",
      "nbconvert_exporter": "python",
      "pygments_lexer": "ipython3",
      "version": "3.12.4"
    }
  },
  "nbformat": 4,
  "nbformat_minor": 5
}
